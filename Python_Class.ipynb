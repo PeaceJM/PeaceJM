{
  "nbformat": 4,
  "nbformat_minor": 0,
  "metadata": {
    "colab": {
      "name": "Python Class",
      "provenance": [],
      "authorship_tag": "ABX9TyOpulBkF55LrkFJwe5Gyn3i",
      "include_colab_link": true
    },
    "kernelspec": {
      "name": "python3",
      "display_name": "Python 3"
    },
    "language_info": {
      "name": "python"
    }
  },
  "cells": [
    {
      "cell_type": "markdown",
      "metadata": {
        "id": "view-in-github",
        "colab_type": "text"
      },
      "source": [
        "<a href=\"https://colab.research.google.com/github/PeaceJM/PeaceJM/blob/main/Python_Class.ipynb\" target=\"_parent\"><img src=\"https://colab.research.google.com/assets/colab-badge.svg\" alt=\"Open In Colab\"/></a>"
      ]
    },
    {
      "cell_type": "markdown",
      "source": [
        ""
      ],
      "metadata": {
        "id": "kz8n_WeTRKOL"
      }
    },
    {
      "cell_type": "markdown",
      "source": [
        "# Python 4 Everyone Notes\n",
        "**This is my python class notebook to follow along**\n",
        "https://www.freecodecamp.org/learn/scientific-computing-with-python/#python-for-everybody \n"
      ],
      "metadata": {
        "id": "BStfelmnRMpE"
      }
    },
    {
      "cell_type": "markdown",
      "source": [
        "#Networking: Web Sraping with Python\n"
      ],
      "metadata": {
        "id": "jx85MRLoRX_m"
      }
    },
    {
      "cell_type": "code",
      "source": [
        "import urllib.request, urllib.parse, urllib.error\n",
        "from bs4 import BeautifulSoup #BeautifulSoup instalation"
      ],
      "metadata": {
        "id": "tURrF0RsR2wO"
      },
      "execution_count": null,
      "outputs": []
    },
    {
      "cell_type": "code",
      "source": [
        "url = input('htt://www.dr-chuck.com/page1.htm')\n",
        "html = urllib.request.urlopen(url).read()\n",
        "soup = BeautifulSoup(html, 'htlm.parser')"
      ],
      "metadata": {
        "id": "33GaShcZS5cI"
      },
      "execution_count": null,
      "outputs": []
    },
    {
      "cell_type": "code",
      "source": [
        "from bs4.element import Tag\n",
        "# Retriveall of the anchor tags\n",
        "for tag in tags:\n",
        "  print(tag.get('href, Nane'))"
      ],
      "metadata": {
        "id": "s3oaQZX7UM27"
      },
      "execution_count": null,
      "outputs": []
    },
    {
      "cell_type": "markdown",
      "source": [
        "#Which Sites Can I Scrape?\n",
        "\n",
        "\n",
        "**General Rules**\n",
        "1.   don't violate copy right\n",
        "2.   don't breach GDPR\n",
        "3.   beware of loging and website termsand conditions\n",
        "\n",
        "**GDPR Rules**\n",
        "1. Lawfulness, fairness and \n",
        "2. transparency.\n",
        "3. Purpose limitation.\n",
        "4. Data minimisation.\n",
        "5. Accuracy.\n",
        "6. Storage limitation.\n",
        "7. Integrity and confidentiality (security)\n",
        "8. Accountability.\n",
        "\n",
        "\n",
        "\n",
        "\n"
      ],
      "metadata": {
        "id": "s127PoAtNMW8"
      }
    },
    {
      "cell_type": "markdown",
      "source": [
        "#JSON\n",
        "1. pulls data and exchangese it between systems\n",
        "2. comes from javascript \n"
      ],
      "metadata": {
        "id": "FUBwyXtTS8br"
      }
    },
    {
      "cell_type": "code",
      "source": [
        "# Example of standard python santax\n",
        "import json\n",
        "data =  '''\n",
        "  [\n",
        "    { \"id\" : \"001\",\n",
        "      \"x\" : \"2\",\n",
        "     \"name\" : \"Quincy\"\n",
        "    } ,\n",
        "    { \"id\" : \"009\",\n",
        "      \"x\" : \"7\",\n",
        "      \"name\" : \"Mrugesh\"\n",
        "    }\n",
        "  ]\n",
        "'''\n",
        "info = json.loads(data)\n",
        "print(info[1]['name'])"
      ],
      "metadata": {
        "colab": {
          "base_uri": "https://localhost:8080/"
        },
        "id": "J32Gz6KDTk-A",
        "outputId": "d0aa770a-0b5c-4c58-ea5a-eac195714315"
      },
      "execution_count": null,
      "outputs": [
        {
          "output_type": "stream",
          "name": "stdout",
          "text": [
            "Mrugesh\n"
          ]
        }
      ]
    },
    {
      "cell_type": "markdown",
      "source": [
        "# Service Oriented Approach\n",
        "**Examples**\n",
        "1. most non-trivial web applications \n",
        "2. they use services from other applications\n",
        "3. APIs\n",
        "\n",
        "# APIs\n",
        "An API (Application Programming Interface) is a set of functions that allows applications to access data and interact with external software components, operating systems, or microservices.\n",
        "1. explore google and spotify APIs\n",
        "\n",
        "https://techcommunity.microsoft.com/t5/azure-sql-blog/building-rest-api-with-python-flask-and-azure-sql/ba-p/1056637\n",
        "\n",
        "\n"
      ],
      "metadata": {
        "id": "wazQM1orUQz5"
      }
    },
    {
      "cell_type": "markdown",
      "source": [
        "# APIs Continued \n",
        "**Rate limiting and security**\n",
        "\n",
        "\n",
        "1.   must log into account and use accont keys\n",
        "2.   can only use limmited times\n",
        "3.   the rules change often\n",
        "\n"
      ],
      "metadata": {
        "id": "HDEkvnx3fhaw"
      }
    },
    {
      "cell_type": "code",
      "source": [
        "# Example twitter code\n",
        "import urllib.request, urllib.parse,urllib.error\n",
        "import twurl\n",
        "import jason\n",
        "\n",
        "TWITTER_URL = 'https://api.twitter/1.1/friends/list.json'\n",
        "\n",
        "while True:\n",
        "  print('')\n",
        "  acct = input('Enter Twitter Account:')\n",
        "  if (len(acct)<1): break\n",
        "  url = twurl.argument(TWITTER_URL,\n",
        "                       {'screen_name': acct, 'count': '5'})\n",
        "  print('Retriving', url)\n",
        "  connection = urllib.request.urlopen(url)\n",
        "  data = connection.read().decode()\n",
        "  headers = dict(connection.getheaders())\n",
        "  print('Remaining', headers['x-rate-limit-remaining'])\n",
        "  js = json.dumps(js, indent=4)\n",
        "\n",
        "  for u in js['users']:\n",
        "    print(u['screen_name'])\n",
        "    s = u['status']['text']\n",
        "    print(' ', s[:50])"
      ],
      "metadata": {
        "id": "I_MgmybRgHg3",
        "colab": {
          "base_uri": "https://localhost:8080/",
          "height": 459
        },
        "outputId": "f919fbf6-9284-4949-ca4b-4e03d404271b"
      },
      "execution_count": null,
      "outputs": [
        {
          "output_type": "error",
          "ename": "ModuleNotFoundError",
          "evalue": "ignored",
          "traceback": [
            "\u001b[0;31m---------------------------------------------------------------------------\u001b[0m",
            "\u001b[0;31mModuleNotFoundError\u001b[0m                       Traceback (most recent call last)",
            "\u001b[0;32m<ipython-input-1-0915d5da809f>\u001b[0m in \u001b[0;36m<module>\u001b[0;34m()\u001b[0m\n\u001b[1;32m      1\u001b[0m \u001b[0;31m# Example twitter code\u001b[0m\u001b[0;34m\u001b[0m\u001b[0;34m\u001b[0m\u001b[0;34m\u001b[0m\u001b[0m\n\u001b[1;32m      2\u001b[0m \u001b[0;32mimport\u001b[0m \u001b[0murllib\u001b[0m\u001b[0;34m.\u001b[0m\u001b[0mrequest\u001b[0m\u001b[0;34m,\u001b[0m \u001b[0murllib\u001b[0m\u001b[0;34m.\u001b[0m\u001b[0mparse\u001b[0m\u001b[0;34m,\u001b[0m\u001b[0murllib\u001b[0m\u001b[0;34m.\u001b[0m\u001b[0merror\u001b[0m\u001b[0;34m\u001b[0m\u001b[0;34m\u001b[0m\u001b[0m\n\u001b[0;32m----> 3\u001b[0;31m \u001b[0;32mimport\u001b[0m \u001b[0mtwurl\u001b[0m\u001b[0;34m\u001b[0m\u001b[0;34m\u001b[0m\u001b[0m\n\u001b[0m\u001b[1;32m      4\u001b[0m \u001b[0;32mimport\u001b[0m \u001b[0mjason\u001b[0m\u001b[0;34m\u001b[0m\u001b[0;34m\u001b[0m\u001b[0m\n\u001b[1;32m      5\u001b[0m \u001b[0;34m\u001b[0m\u001b[0m\n",
            "\u001b[0;31mModuleNotFoundError\u001b[0m: No module named 'twurl'",
            "",
            "\u001b[0;31m---------------------------------------------------------------------------\u001b[0;32m\nNOTE: If your import is failing due to a missing package, you can\nmanually install dependencies using either !pip or !apt.\n\nTo view examples of installing some common dependencies, click the\n\"Open Examples\" button below.\n\u001b[0;31m---------------------------------------------------------------------------\u001b[0m\n"
          ],
          "errorDetails": {
            "actions": [
              {
                "action": "open_url",
                "actionText": "Open Examples",
                "url": "/notebooks/snippets/importing_libraries.ipynb"
              }
            ]
          }
        }
      ]
    },
    {
      "cell_type": "markdown",
      "source": [
        "1. This API gets a friend list from a particular user\n",
        "2. It retrives the first 5 freinds"
      ],
      "metadata": {
        "id": "DkgvPSbgRrwN"
      }
    },
    {
      "cell_type": "markdown",
      "source": [
        "# Python Objects\n",
        "**What is object oriented programing?**\n",
        "Object-oriented programming is a programming paradigm that provides a means of structuring programs so that properties and behaviors are bundled into individual objects.\n",
        "\n",
        "**Examples**\n",
        "1. for loops\n",
        "2. dictionaries\n",
        "3. lists\n",
        "4. integers and strings\n",
        "**Definitions**\n",
        "\n",
        "\n",
        "*   Class- a template (dog)\n",
        "*   Method- a defined capability of a class (bark)\n",
        "*   Feild- a bit of data in a class (length)\n",
        "*   Object- a particular instance of a class (dog name)\n",
        "\n",
        "\n",
        "\n",
        "\n"
      ],
      "metadata": {
        "id": "ThsekP9gSaWD"
      }
    },
    {
      "cell_type": "code",
      "source": [
        "class PartyAnimal: # The template\n",
        "  x = 0 # Contructing\n",
        "  def party(self): # Each PartyAnimal object has a bit of code\n",
        "    print(self.x)\n",
        "\n",
        "an = PartyAnimal() # Consructs a PartyAnimal oject and store in an\n",
        "an.party() # Tell the an object to run party() code \n",
        "an.party()"
      ],
      "metadata": {
        "colab": {
          "base_uri": "https://localhost:8080/"
        },
        "id": "_9soLhm7VTYl",
        "outputId": "7b82c8f0-4a9f-45dc-97be-9ce7d7f34e22"
      },
      "execution_count": null,
      "outputs": [
        {
          "output_type": "stream",
          "name": "stdout",
          "text": [
            "0\n",
            "0\n"
          ]
        }
      ]
    },
    {
      "cell_type": "code",
      "source": [
        "x = list()\n",
        "type(x)\n",
        "dir(x)"
      ],
      "metadata": {
        "colab": {
          "base_uri": "https://localhost:8080/"
        },
        "id": "Y_yXGzIPW8dx",
        "outputId": "60289119-c43e-42e1-f602-c4d8b1ede199"
      },
      "execution_count": null,
      "outputs": [
        {
          "output_type": "execute_result",
          "data": {
            "text/plain": [
              "['__add__',\n",
              " '__class__',\n",
              " '__contains__',\n",
              " '__delattr__',\n",
              " '__delitem__',\n",
              " '__dir__',\n",
              " '__doc__',\n",
              " '__eq__',\n",
              " '__format__',\n",
              " '__ge__',\n",
              " '__getattribute__',\n",
              " '__getitem__',\n",
              " '__gt__',\n",
              " '__hash__',\n",
              " '__iadd__',\n",
              " '__imul__',\n",
              " '__init__',\n",
              " '__init_subclass__',\n",
              " '__iter__',\n",
              " '__le__',\n",
              " '__len__',\n",
              " '__lt__',\n",
              " '__mul__',\n",
              " '__ne__',\n",
              " '__new__',\n",
              " '__reduce__',\n",
              " '__reduce_ex__',\n",
              " '__repr__',\n",
              " '__reversed__',\n",
              " '__rmul__',\n",
              " '__setattr__',\n",
              " '__setitem__',\n",
              " '__sizeof__',\n",
              " '__str__',\n",
              " '__subclasshook__',\n",
              " 'append',\n",
              " 'clear',\n",
              " 'copy',\n",
              " 'count',\n",
              " 'extend',\n",
              " 'index',\n",
              " 'insert',\n",
              " 'pop',\n",
              " 'remove',\n",
              " 'reverse',\n",
              " 'sort']"
            ]
          },
          "metadata": {},
          "execution_count": 2
        }
      ]
    },
    {
      "cell_type": "code",
      "source": [
        "y = 'Hello world' # dir() with a string\n",
        "dir(y)"
      ],
      "metadata": {
        "colab": {
          "base_uri": "https://localhost:8080/"
        },
        "id": "fAwEBkIyXV9K",
        "outputId": "f1deb810-57e5-44ba-9cca-6126176f2b8c"
      },
      "execution_count": null,
      "outputs": [
        {
          "output_type": "execute_result",
          "data": {
            "text/plain": [
              "['__add__',\n",
              " '__class__',\n",
              " '__contains__',\n",
              " '__delattr__',\n",
              " '__dir__',\n",
              " '__doc__',\n",
              " '__eq__',\n",
              " '__format__',\n",
              " '__ge__',\n",
              " '__getattribute__',\n",
              " '__getitem__',\n",
              " '__getnewargs__',\n",
              " '__gt__',\n",
              " '__hash__',\n",
              " '__init__',\n",
              " '__init_subclass__',\n",
              " '__iter__',\n",
              " '__le__',\n",
              " '__len__',\n",
              " '__lt__',\n",
              " '__mod__',\n",
              " '__mul__',\n",
              " '__ne__',\n",
              " '__new__',\n",
              " '__reduce__',\n",
              " '__reduce_ex__',\n",
              " '__repr__',\n",
              " '__rmod__',\n",
              " '__rmul__',\n",
              " '__setattr__',\n",
              " '__sizeof__',\n",
              " '__str__',\n",
              " '__subclasshook__',\n",
              " 'capitalize',\n",
              " 'casefold',\n",
              " 'center',\n",
              " 'count',\n",
              " 'encode',\n",
              " 'endswith',\n",
              " 'expandtabs',\n",
              " 'find',\n",
              " 'format',\n",
              " 'format_map',\n",
              " 'index',\n",
              " 'isalnum',\n",
              " 'isalpha',\n",
              " 'isascii',\n",
              " 'isdecimal',\n",
              " 'isdigit',\n",
              " 'isidentifier',\n",
              " 'islower',\n",
              " 'isnumeric',\n",
              " 'isprintable',\n",
              " 'isspace',\n",
              " 'istitle',\n",
              " 'isupper',\n",
              " 'join',\n",
              " 'ljust',\n",
              " 'lower',\n",
              " 'lstrip',\n",
              " 'maketrans',\n",
              " 'partition',\n",
              " 'replace',\n",
              " 'rfind',\n",
              " 'rindex',\n",
              " 'rjust',\n",
              " 'rpartition',\n",
              " 'rsplit',\n",
              " 'rstrip',\n",
              " 'split',\n",
              " 'splitlines',\n",
              " 'startswith',\n",
              " 'strip',\n",
              " 'swapcase',\n",
              " 'title',\n",
              " 'translate',\n",
              " 'upper',\n",
              " 'zfill']"
            ]
          },
          "metadata": {},
          "execution_count": 3
        }
      ]
    },
    {
      "cell_type": "code",
      "source": [
        "class PartyAnimal: # We can use dir() to find the \"capabilities\" of our newly created class\n",
        "  x = 0\n",
        "\n",
        "  def part(self) :\n",
        "    self.x = self.x + 1\n",
        "    print(\"So far\",self.x)\n",
        "an = PartyAnimal()\n",
        "\n",
        "print(\"Type\", type(an))\n",
        "print(\"Dir\", dir(an))"
      ],
      "metadata": {
        "colab": {
          "base_uri": "https://localhost:8080/"
        },
        "id": "rlUlKu-rXlKT",
        "outputId": "db124ad7-30be-470c-b761-f21600580c5d"
      },
      "execution_count": null,
      "outputs": [
        {
          "output_type": "stream",
          "name": "stdout",
          "text": [
            "Type <class '__main__.PartyAnimal'>\n",
            "Dir ['__class__', '__delattr__', '__dict__', '__dir__', '__doc__', '__eq__', '__format__', '__ge__', '__getattribute__', '__gt__', '__hash__', '__init__', '__init_subclass__', '__le__', '__lt__', '__module__', '__ne__', '__new__', '__reduce__', '__reduce_ex__', '__repr__', '__setattr__', '__sizeof__', '__str__', '__subclasshook__', '__weakref__', 'part', 'x']\n"
          ]
        }
      ]
    },
    {
      "cell_type": "code",
      "source": [
        "class PartyAnimal: # We can use dir() to find the \"capabilities\" of our newly created class\n",
        "  x = 0\n",
        "\n",
        "  def __init__(self): # The constructer is used to set up variables\n",
        "      print('I am consrtucted')\n",
        "\n",
        "  def party(self) :\n",
        "    self.x = self.x + 1\n",
        "    print(\"So far\",self.x)\n",
        "\n",
        "  def __del__(self): # Destructors aren't really used\n",
        "      print('I am desrtucted', self.x)\n",
        "\n",
        "an = PartyAnimal()\n",
        "an.party() # Tell the an object to run party() code \n",
        "an.party()\n",
        "an = 42\n",
        "print('an contains',an)"
      ],
      "metadata": {
        "colab": {
          "base_uri": "https://localhost:8080/"
        },
        "id": "2eyMuuVidg8x",
        "outputId": "c9d295dc-5a69-4d04-fdb2-3f2f08f2838b"
      },
      "execution_count": null,
      "outputs": [
        {
          "output_type": "stream",
          "name": "stdout",
          "text": [
            "I am consrtucted\n",
            "So far 1\n",
            "So far 2\n",
            "I am desrtucted 2\n",
            "an contains 42\n"
          ]
        }
      ]
    },
    {
      "cell_type": "code",
      "source": [
        "class PartyAnimal:\n",
        "  x = 0\n",
        "  name = ''\n",
        "  def __init__(self, nam):\n",
        "      self.name = nam\n",
        "      print(self.name, 'constructed')\n",
        "  def party(self):\n",
        "    self.x = self.x + 1\n",
        "    print(self.name, 'party count',self.x)\n",
        "q = PartyAnimal('Quincy')\n",
        "m = PartyAnimal('Miya')\n",
        "\n",
        "q.party()\n",
        "m.party()\n",
        "q.party()"
      ],
      "metadata": {
        "colab": {
          "base_uri": "https://localhost:8080/"
        },
        "id": "lE1GxUHufkcO",
        "outputId": "acdcab11-7045-4484-bf01-0dee9bdff3a5"
      },
      "execution_count": null,
      "outputs": [
        {
          "output_type": "stream",
          "name": "stdout",
          "text": [
            "Quincy constructed\n",
            "Miya constructed\n",
            "Quincy party count 1\n",
            "Miya party count 1\n",
            "Quincy party count 2\n"
          ]
        }
      ]
    },
    {
      "cell_type": "markdown",
      "source": [
        "# Inheritance \n",
        "**Definition:** We extend an existing class via code reuse \n",
        "\n",
        "1. parent class ----> child class"
      ],
      "metadata": {
        "id": "XdaDIu4tg_a3"
      }
    },
    {
      "cell_type": "code",
      "source": [
        "class PartyAnimal:\n",
        "  x = 0\n",
        "  name = \"\"\n",
        "  def __init__(self, nam):\n",
        "      self.name = nam\n",
        "      print(self.name, \"constructed\")\n",
        "  def party(self):\n",
        "    self.x = self.x + 1\n",
        "    print(self.name, \"party count\",self.x)\n",
        "\n",
        "class FootballFan(PartyAnimal):\n",
        "  points = 0\n",
        "  def touchdown(self):\n",
        "    self.points = self.points + 7\n",
        "    self.party()\n",
        "    print(self.name,\"points\",self.points)"
      ],
      "metadata": {
        "id": "7kHBE8gyhUMk"
      },
      "execution_count": null,
      "outputs": []
    },
    {
      "cell_type": "markdown",
      "source": [
        "# Relational Databases and SQLite \n",
        "**Relational Databases:** a collection of data items with pre-defined relationships between them. These items are organized as a set of tables with columns and rows. Tables are used to hold information about the objects to be represented in the database. https://aws.amazon.com/relational-database/ \n",
        "\n",
        "**SQLite:** a C-language library that implements a small, fast, self-contained, high-reliability, full-featured, SQL database engine. SQLite is the most used database engine in the world. SQLite is built into all mobile phones and most computers and comes bundled inside countless other applications that people use every day. https://www.sqlite.org/index.html \n",
        "\n",
        "**SQLite Download:** https://sqlitebrowser.org/dl/ \n",
        "\n",
        "**Terminology**\n",
        "\n",
        "\n",
        "1.   Database: contains many tables\n",
        "2.   Table: contains tuples and attributes\n",
        "3.   Row: a set of fields that generally represents and object like a person or a music track\n",
        "4.   Column: one of possibly many elements of data corresponding to the object represented by the row\n",
        "\n",
        "**Basic Steps**\n",
        "1. create a table\n",
        "2. retrieve some data\n",
        "3. insert data\n",
        "4. delete data\n",
        "\n",
        "**Database Handout:** https://www.py4e.com/lectures3/Pythonlearn-15-Database-Handout.txt "
      ],
      "metadata": {
        "id": "WKqWagLeiQg5"
      }
    },
    {
      "cell_type": "markdown",
      "source": [
        "# Relational Database Design\n",
        "**Building a data model**\n",
        "* drawing a picture of the date objects for our application and then figuring out how to represent the objects and their relationships\n",
        "* don't put the same string data in twice- use a relationship instead\n",
        "* when there is one thing in the \"real world\" there should be one copy of that in a database\n",
        "\n",
        "**Relationships**\n",
        "\n",
        "More information: https://www.ibm.com/docs/en/control-desk/7.6.0?topic=structure-database-relationships \n",
        "\n",
        "*   **primary key:** and integer auto-incertment feild (ex. id) \n",
        "*   **logical key:** what the outside world uses for lookup (ex. title)\n",
        "*   **foreign key:** an integer key pointing to a row in another table (ex. artist_id)\n",
        "\n",
        "**Rules**\n",
        "* never use your logical key as your primary key\n",
        "* logical keys can change\n",
        "* relationships that are based on matching string fields are less efficient\n",
        "\n",
        "\n",
        "\n"
      ],
      "metadata": {
        "id": "Qq8f4RXjJJkE"
      }
    },
    {
      "cell_type": "markdown",
      "source": [
        "# Visualizing Data With Python\n",
        "\n",
        "**Steps**\n",
        "1. Gather the data\n",
        "2. Clean and process\n",
        "3. Visualize\n",
        "4. Analyze\n",
        "\n",
        "\n",
        "\n",
        "---\n",
        "\n",
        "# Basic Pattern\n",
        "\n",
        "*   large database -----> small database\n",
        "\n",
        "\n"
      ],
      "metadata": {
        "id": "5BM2aJ_fQkea"
      }
    },
    {
      "cell_type": "markdown",
      "source": [
        "# Project Overview\n",
        "\n",
        "**GeoData**\n",
        "\n",
        "\n",
        "*   makes a Google Map from user entered data\n",
        "*   uses the Google GeoData API\n",
        "*   caches data in a database to avoid rate limiting and allow restarting\n",
        "*   visualized in a browser using a Google Maps API\n",
        "http://www.py4e.com/code3/geodata.zip \n",
        "\n",
        "\n",
        "\n",
        "\n",
        "\n"
      ],
      "metadata": {
        "id": "EdcN-yJySEri"
      }
    },
    {
      "cell_type": "markdown",
      "source": [
        "# Page Rank\n",
        "Determines which pages are most highly connected\n",
        "\n",
        "\n",
        "*   write a simple web page crawler \n",
        "*   compute a simple version of Google's Page Rank algorithm\n",
        "*   visualize the resulting network\n",
        "\n",
        "**Web Crawler**\n",
        "\n",
        "A computer program that browses the World Wide Web in a metholodical, automated manner. This is used to create a copy of all the visited pages for later processing by a search engine that wil index the downloaded pages to provide fast searches. http://en.wikipedia.org/wiki/Web_Crawler\n",
        "\n",
        "* retrive a page\n",
        "* look through the page for links\n",
        "* add the links to a list of \"to be retrived\" sites\n",
        "* repeat\n",
        "\n",
        "**Policy**\n",
        "\n",
        "* selection policy\n",
        "* re-visit policy\n",
        "* politeness policy\n",
        "* parallization policy\n",
        "\n",
        "\n",
        "**Index Building**\n",
        "\n",
        "This collects, parses, and stores data to facilitate fast and accurate information retrival. The purpose is to optimize speed and performance in finding relevant documents for a search query. http://en.wikipedia.org/wiki/Index_(search_engine)\n",
        "\n",
        "\n",
        "\n",
        "---\n",
        "\n",
        "\n",
        "practice zip file: http://www.py4e.com/code3/pagerank.zip"
      ],
      "metadata": {
        "id": "Ry8tvycYT9ZY"
      }
    },
    {
      "cell_type": "markdown",
      "source": [
        "# Mailing Lists\n",
        " practice file (large): http://www.py4e.com/code3/gmane.zip \n",
        "\n",
        "\n",
        "\n",
        "*   raw retrival of email messages\n",
        "\n"
      ],
      "metadata": {
        "id": "uNFtPswIYum5"
      }
    }
  ]
}